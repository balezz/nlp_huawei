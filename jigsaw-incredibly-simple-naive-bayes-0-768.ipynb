{
 "cells": [
  {
   "cell_type": "markdown",
   "metadata": {},
   "source": [
    "# Imports"
   ]
  },
  {
   "cell_type": "code",
   "execution_count": 16,
   "metadata": {
    "execution": {
     "iopub.execute_input": "2021-11-11T05:03:09.854538Z",
     "iopub.status.busy": "2021-11-11T05:03:09.853817Z",
     "iopub.status.idle": "2021-11-11T05:03:10.764336Z",
     "shell.execute_reply": "2021-11-11T05:03:10.763495Z",
     "shell.execute_reply.started": "2021-11-11T05:03:09.854443Z"
    }
   },
   "outputs": [],
   "source": [
    "import pandas as pd\n",
    "import numpy as np\n",
    "from sklearn.naive_bayes import MultinomialNB\n",
    "from sklearn.feature_extraction.text import TfidfVectorizer"
   ]
  },
  {
   "cell_type": "markdown",
   "metadata": {},
   "source": [
    "# Create train data\n",
    "\n",
    "The competition was multioutput\n",
    "\n",
    "We turn it into a binary toxic/ no-toxic classification"
   ]
  },
  {
   "cell_type": "code",
   "execution_count": 69,
   "metadata": {
    "execution": {
     "iopub.execute_input": "2021-11-11T05:03:10.768719Z",
     "iopub.status.busy": "2021-11-11T05:03:10.76846Z",
     "iopub.status.idle": "2021-11-11T05:03:12.659346Z",
     "shell.execute_reply": "2021-11-11T05:03:12.658484Z",
     "shell.execute_reply.started": "2021-11-11T05:03:10.768691Z"
    }
   },
   "outputs": [],
   "source": [
    "df = pd.read_csv(\"data/train.csv\")"
   ]
  },
  {
   "cell_type": "code",
   "execution_count": 70,
   "metadata": {},
   "outputs": [],
   "source": [
    "df = df.dropna()"
   ]
  },
  {
   "cell_type": "code",
   "execution_count": 71,
   "metadata": {},
   "outputs": [
    {
     "data": {
      "text/html": [
       "<div>\n",
       "<style scoped>\n",
       "    .dataframe tbody tr th:only-of-type {\n",
       "        vertical-align: middle;\n",
       "    }\n",
       "\n",
       "    .dataframe tbody tr th {\n",
       "        vertical-align: top;\n",
       "    }\n",
       "\n",
       "    .dataframe thead th {\n",
       "        text-align: right;\n",
       "    }\n",
       "</style>\n",
       "<table border=\"1\" class=\"dataframe\">\n",
       "  <thead>\n",
       "    <tr style=\"text-align: right;\">\n",
       "      <th></th>\n",
       "      <th>id</th>\n",
       "      <th>comment_text</th>\n",
       "      <th>toxicity</th>\n",
       "    </tr>\n",
       "  </thead>\n",
       "  <tbody>\n",
       "    <tr>\n",
       "      <th>0</th>\n",
       "      <td>0</td>\n",
       "      <td>fuck you you self righteous creep</td>\n",
       "      <td>3</td>\n",
       "    </tr>\n",
       "    <tr>\n",
       "      <th>1</th>\n",
       "      <td>1</td>\n",
       "      <td>stop stop the goddam vandalism or there ll be...</td>\n",
       "      <td>2</td>\n",
       "    </tr>\n",
       "    <tr>\n",
       "      <th>2</th>\n",
       "      <td>2</td>\n",
       "      <td>i agree rt does have a few shortcomings  but i...</td>\n",
       "      <td>0</td>\n",
       "    </tr>\n",
       "    <tr>\n",
       "      <th>3</th>\n",
       "      <td>3</td>\n",
       "      <td>if you would like verfiability here is the lin...</td>\n",
       "      <td>0</td>\n",
       "    </tr>\n",
       "    <tr>\n",
       "      <th>4</th>\n",
       "      <td>4</td>\n",
       "      <td>do you think there s consensus for me to be on...</td>\n",
       "      <td>0</td>\n",
       "    </tr>\n",
       "    <tr>\n",
       "      <th>...</th>\n",
       "      <td>...</td>\n",
       "      <td>...</td>\n",
       "      <td>...</td>\n",
       "    </tr>\n",
       "    <tr>\n",
       "      <th>34642</th>\n",
       "      <td>34642</td>\n",
       "      <td>huy i am kyle robbins i think albert pujols is...</td>\n",
       "      <td>4</td>\n",
       "    </tr>\n",
       "    <tr>\n",
       "      <th>34643</th>\n",
       "      <td>34643</td>\n",
       "      <td>unlike the ancient greeks  the idiot who  bloc...</td>\n",
       "      <td>4</td>\n",
       "    </tr>\n",
       "    <tr>\n",
       "      <th>34644</th>\n",
       "      <td>34644</td>\n",
       "      <td>no it isn t  so if you wish to delete my accou...</td>\n",
       "      <td>1</td>\n",
       "    </tr>\n",
       "    <tr>\n",
       "      <th>34645</th>\n",
       "      <td>34645</td>\n",
       "      <td>you haven t been paying attention  i don t c...</td>\n",
       "      <td>1</td>\n",
       "    </tr>\n",
       "    <tr>\n",
       "      <th>34646</th>\n",
       "      <td>34646</td>\n",
       "      <td>you are the racist piece of dirt buckley  and...</td>\n",
       "      <td>3</td>\n",
       "    </tr>\n",
       "  </tbody>\n",
       "</table>\n",
       "<p>34646 rows × 3 columns</p>\n",
       "</div>"
      ],
      "text/plain": [
       "          id                                       comment_text  toxicity\n",
       "0          0                 fuck you you self righteous creep          3\n",
       "1          1   stop stop the goddam vandalism or there ll be...         2\n",
       "2          2  i agree rt does have a few shortcomings  but i...         0\n",
       "3          3  if you would like verfiability here is the lin...         0\n",
       "4          4  do you think there s consensus for me to be on...         0\n",
       "...      ...                                                ...       ...\n",
       "34642  34642  huy i am kyle robbins i think albert pujols is...         4\n",
       "34643  34643  unlike the ancient greeks  the idiot who  bloc...         4\n",
       "34644  34644  no it isn t  so if you wish to delete my accou...         1\n",
       "34645  34645    you haven t been paying attention  i don t c...         1\n",
       "34646  34646   you are the racist piece of dirt buckley  and...         3\n",
       "\n",
       "[34646 rows x 3 columns]"
      ]
     },
     "execution_count": 71,
     "metadata": {},
     "output_type": "execute_result"
    }
   ],
   "source": [
    "df"
   ]
  },
  {
   "cell_type": "code",
   "execution_count": 73,
   "metadata": {
    "execution": {
     "iopub.execute_input": "2021-11-11T05:03:10.768719Z",
     "iopub.status.busy": "2021-11-11T05:03:10.76846Z",
     "iopub.status.idle": "2021-11-11T05:03:12.659346Z",
     "shell.execute_reply": "2021-11-11T05:03:12.658484Z",
     "shell.execute_reply.started": "2021-11-11T05:03:10.768691Z"
    }
   },
   "outputs": [
    {
     "data": {
      "text/html": [
       "<div>\n",
       "<style scoped>\n",
       "    .dataframe tbody tr th:only-of-type {\n",
       "        vertical-align: middle;\n",
       "    }\n",
       "\n",
       "    .dataframe tbody tr th {\n",
       "        vertical-align: top;\n",
       "    }\n",
       "\n",
       "    .dataframe thead th {\n",
       "        text-align: right;\n",
       "    }\n",
       "</style>\n",
       "<table border=\"1\" class=\"dataframe\">\n",
       "  <thead>\n",
       "    <tr style=\"text-align: right;\">\n",
       "      <th></th>\n",
       "      <th>id</th>\n",
       "      <th>text</th>\n",
       "      <th>y</th>\n",
       "    </tr>\n",
       "  </thead>\n",
       "  <tbody>\n",
       "    <tr>\n",
       "      <th>11711</th>\n",
       "      <td>11711</td>\n",
       "      <td>come to my house right now and do me in the bu...</td>\n",
       "      <td>1</td>\n",
       "    </tr>\n",
       "    <tr>\n",
       "      <th>18902</th>\n",
       "      <td>18902</td>\n",
       "      <td>you know what fine fuck you  i hope you and ...</td>\n",
       "      <td>3</td>\n",
       "    </tr>\n",
       "    <tr>\n",
       "      <th>34543</th>\n",
       "      <td>34543</td>\n",
       "      <td>oh  just the wiktionary gwlardy is being del...</td>\n",
       "      <td>0</td>\n",
       "    </tr>\n",
       "    <tr>\n",
       "      <th>11644</th>\n",
       "      <td>11644</td>\n",
       "      <td>hahaha able i should answer you promptly somet...</td>\n",
       "      <td>0</td>\n",
       "    </tr>\n",
       "    <tr>\n",
       "      <th>15411</th>\n",
       "      <td>15411</td>\n",
       "      <td>speedy deletion of nottingham youth theatre  ...</td>\n",
       "      <td>0</td>\n",
       "    </tr>\n",
       "  </tbody>\n",
       "</table>\n",
       "</div>"
      ],
      "text/plain": [
       "          id                                               text  y\n",
       "11711  11711  come to my house right now and do me in the bu...  1\n",
       "18902  18902    you know what fine fuck you  i hope you and ...  3\n",
       "34543  34543    oh  just the wiktionary gwlardy is being del...  0\n",
       "11644  11644  hahaha able i should answer you promptly somet...  0\n",
       "15411  15411   speedy deletion of nottingham youth theatre  ...  0"
      ]
     },
     "execution_count": 73,
     "metadata": {},
     "output_type": "execute_result"
    }
   ],
   "source": [
    "df = df.rename(columns={'toxicity': 'y', 'comment_text':'text'})\n",
    "df.sample(5)"
   ]
  },
  {
   "cell_type": "code",
   "execution_count": 74,
   "metadata": {},
   "outputs": [
    {
     "data": {
      "text/plain": [
       "<AxesSubplot:>"
      ]
     },
     "execution_count": 74,
     "metadata": {},
     "output_type": "execute_result"
    },
    {
     "data": {
      "image/png": "[encoded data removed]",
      "text/plain": [
       "<Figure size 432x288 with 1 Axes>"
      ]
     },
     "metadata": {
      "needs_background": "light"
     },
     "output_type": "display_data"
    }
   ],
   "source": [
    "df['y'].hist()"
   ]
  },
  {
   "cell_type": "markdown",
   "metadata": {},
   "source": [
    "## Undersample"
   ]
  },
  {
   "cell_type": "code",
   "execution_count": 75,
   "metadata": {},
   "outputs": [
    {
     "data": {
      "text/plain": [
       "0    0.471800\n",
       "1    0.193240\n",
       "3    0.148127\n",
       "2    0.118051\n",
       "4    0.055764\n",
       "5    0.013017\n",
       "Name: y, dtype: float64"
      ]
     },
     "execution_count": 75,
     "metadata": {},
     "output_type": "execute_result"
    }
   ],
   "source": [
    "df['y'].value_counts(normalize=True)"
   ]
  },
  {
   "cell_type": "code",
   "execution_count": 76,
   "metadata": {},
   "outputs": [
    {
     "data": {
      "text/plain": [
       "0    16346\n",
       "1     6695\n",
       "3     5132\n",
       "2     4090\n",
       "4     1932\n",
       "5      451\n",
       "Name: y, dtype: int64"
      ]
     },
     "execution_count": 76,
     "metadata": {},
     "output_type": "execute_result"
    }
   ],
   "source": [
    "df['y'].value_counts()"
   ]
  },
  {
   "cell_type": "markdown",
   "metadata": {},
   "source": [
    "# TF-IDF"
   ]
  },
  {
   "cell_type": "code",
   "execution_count": 23,
   "metadata": {
    "execution": {
     "iopub.execute_input": "2021-11-11T05:03:12.748792Z",
     "iopub.status.busy": "2021-11-11T05:03:12.748502Z",
     "iopub.status.idle": "2021-11-11T05:03:12.755242Z",
     "shell.execute_reply": "2021-11-11T05:03:12.753975Z",
     "shell.execute_reply.started": "2021-11-11T05:03:12.748754Z"
    }
   },
   "outputs": [],
   "source": [
    "vec = TfidfVectorizer()"
   ]
  },
  {
   "cell_type": "code",
   "execution_count": 24,
   "metadata": {
    "execution": {
     "iopub.execute_input": "2021-11-11T05:03:12.75825Z",
     "iopub.status.busy": "2021-11-11T05:03:12.757495Z",
     "iopub.status.idle": "2021-11-11T05:03:15.46772Z",
     "shell.execute_reply": "2021-11-11T05:03:15.466726Z",
     "shell.execute_reply.started": "2021-11-11T05:03:12.758196Z"
    }
   },
   "outputs": [
    {
     "data": {
      "text/plain": [
       "<34646x61711 sparse matrix of type '<class 'numpy.float64'>'\n",
       "\twith 1214988 stored elements in Compressed Sparse Row format>"
      ]
     },
     "execution_count": 24,
     "metadata": {},
     "output_type": "execute_result"
    }
   ],
   "source": [
    "X = vec.fit_transform(df['comment_text'])\n",
    "X"
   ]
  },
  {
   "cell_type": "code",
   "execution_count": 78,
   "metadata": {
    "execution": {
     "iopub.execute_input": "2021-11-11T05:03:15.500639Z",
     "iopub.status.busy": "2021-11-11T05:03:15.500042Z",
     "iopub.status.idle": "2021-11-11T05:03:15.981873Z",
     "shell.execute_reply": "2021-11-11T05:03:15.981029Z",
     "shell.execute_reply.started": "2021-11-11T05:03:15.500607Z"
    }
   },
   "outputs": [],
   "source": [
    "df_val = pd.read_csv(\"data/test.csv\")\n",
    "X_val = vec.transform(df_val['comment_text'])"
   ]
  },
  {
   "cell_type": "markdown",
   "metadata": {},
   "source": [
    "# Fit Model"
   ]
  },
  {
   "cell_type": "code",
   "execution_count": 88,
   "metadata": {
    "execution": {
     "iopub.execute_input": "2021-11-11T05:03:15.472424Z",
     "iopub.status.busy": "2021-11-11T05:03:15.471853Z",
     "iopub.status.idle": "2021-11-11T05:03:15.499087Z",
     "shell.execute_reply": "2021-11-11T05:03:15.498329Z",
     "shell.execute_reply.started": "2021-11-11T05:03:15.472389Z"
    }
   },
   "outputs": [
    {
     "data": {
      "text/plain": [
       "MultinomialNB()"
      ]
     },
     "execution_count": 88,
     "metadata": {},
     "output_type": "execute_result"
    }
   ],
   "source": [
    "model = MultinomialNB()\n",
    "model.fit(X, df['y'])"
   ]
  },
  {
   "cell_type": "code",
   "execution_count": 89,
   "metadata": {},
   "outputs": [],
   "source": [
    "p1 = model.predict_proba(X_val)\n",
    "y_pred = np.argmax(p1, axis=-1)\n",
    "df_val['prediction'] = y_pred"
   ]
  },
  {
   "cell_type": "code",
   "execution_count": 90,
   "metadata": {},
   "outputs": [
    {
     "data": {
      "text/plain": [
       "<AxesSubplot:>"
      ]
     },
     "execution_count": 90,
     "metadata": {},
     "output_type": "execute_result"
    },
    {
     "data": {
      "image/png": "[encoded data removed]",
      "text/plain": [
       "<Figure size 432x288 with 1 Axes>"
      ]
     },
     "metadata": {
      "needs_background": "light"
     },
     "output_type": "display_data"
    }
   ],
   "source": [
    "df_val['prediction'].hist()"
   ]
  },
  {
   "cell_type": "markdown",
   "metadata": {},
   "source": [
    "## SGDRegressor"
   ]
  },
  {
   "cell_type": "code",
   "execution_count": 111,
   "metadata": {},
   "outputs": [
    {
     "data": {
      "text/plain": [
       "SGDRegressor()"
      ]
     },
     "execution_count": 111,
     "metadata": {},
     "output_type": "execute_result"
    }
   ],
   "source": [
    "from sklearn.linear_model import SGDRegressor\n",
    "mSGDRegressor = SGDRegressor()\n",
    "mSGDRegressor.fit(X, df['y']/5)"
   ]
  },
  {
   "cell_type": "markdown",
   "metadata": {},
   "source": [
    "# Validate"
   ]
  },
  {
   "cell_type": "code",
   "execution_count": 112,
   "metadata": {},
   "outputs": [],
   "source": [
    "p = mSGDRegressor.predict(X_val)"
   ]
  },
  {
   "cell_type": "code",
   "execution_count": 136,
   "metadata": {},
   "outputs": [],
   "source": [
    "y_pred = np.minimum(np.maximum(0, np.floor(p*5).astype(int)), 5)"
   ]
  },
  {
   "cell_type": "code",
   "execution_count": 138,
   "metadata": {},
   "outputs": [
    {
     "data": {
      "text/plain": [
       "(array([0, 1, 2, 3, 4, 5]), array([5331, 2695,  724,  289,  112,   43]))"
      ]
     },
     "execution_count": 138,
     "metadata": {},
     "output_type": "execute_result"
    }
   ],
   "source": [
    "np.unique(y_pred, return_counts=True)"
   ]
  },
  {
   "cell_type": "markdown",
   "metadata": {},
   "source": [
    "# Submission"
   ]
  },
  {
   "cell_type": "code",
   "execution_count": 139,
   "metadata": {},
   "outputs": [],
   "source": [
    "df_val['prediction'] = y_pred"
   ]
  },
  {
   "cell_type": "code",
   "execution_count": 140,
   "metadata": {},
   "outputs": [],
   "source": [
    "df_val[['id', 'prediction']].to_csv('submission.csv', index=False)"
   ]
  }
 ],
 "metadata": {
  "kernelspec": {
   "display_name": "Python 3 (ipykernel)",
   "language": "python",
   "name": "python3"
  },
  "language_info": {
   "codemirror_mode": {
    "name": "ipython",
    "version": 3
   },
   "file_extension": ".py",
   "mimetype": "text/x-python",
   "name": "python",
   "nbconvert_exporter": "python",
   "pygments_lexer": "ipython3",
   "version": "3.9.7"
  }
 },
 "nbformat": 4,
 "nbformat_minor": 4
}
